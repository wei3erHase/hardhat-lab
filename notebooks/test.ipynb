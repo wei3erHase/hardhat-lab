{
 "cells": [
  {
   "cell_type": "code",
   "execution_count": 1,
   "id": "9517a18a-d295-4632-b929-928fdc6cd863",
   "metadata": {},
   "outputs": [],
   "source": [
    "import 'hardhat'\n",
    "import '@nomiclabs/hardhat-ethers'\n",
    "import 'dotenv/config'\n",
    "import { expect } from 'chai';\n",
    "import { ethers, network } from 'hardhat';"
   ]
  },
  {
   "cell_type": "code",
   "execution_count": 2,
   "id": "86d69add-eba5-4a6d-a5f5-2888f53bb335",
   "metadata": {},
   "outputs": [
    {
     "name": "stdout",
     "output_type": "stream",
     "text": [
      "\u001b[33mtrue\u001b[39m\n"
     ]
    }
   ],
   "source": [
    "await network.provider.request({\n",
    "    method: 'hardhat_reset',\n",
    "    params: [{\n",
    "        forking:{\n",
    "            jsonRpcUrl: process.env.MAINNET_HTTPS_URL,\n",
    "            blockNumber: 14000000,            \n",
    "        }\n",
    "    }]\n",
    "  })"
   ]
  },
  {
   "cell_type": "code",
   "execution_count": 3,
   "id": "9605be21-c1bf-46af-ad49-0bf5301f3b0f",
   "metadata": {},
   "outputs": [],
   "source": [
    "const weth = await ethers.getContractAt('IERC20','0xc02aaa39b223fe8d0a0e5c4f27ead9083c756cc2')"
   ]
  },
  {
   "cell_type": "code",
   "execution_count": 4,
   "id": "25ca7acd-90da-46a3-a11a-008501e6d1c4",
   "metadata": {},
   "outputs": [
    {
     "name": "stdout",
     "output_type": "stream",
     "text": [
      "BigNumber { _hex: \u001b[32m'0x0449ca1ad2eefde0'\u001b[39m, _isBigNumber: \u001b[33mtrue\u001b[39m }\n"
     ]
    }
   ],
   "source": [
    "await weth.callStatic.balanceOf('0xBad58e133138549936D2576ebC33251bE841d3e9')"
   ]
  },
  {
   "cell_type": "code",
   "execution_count": null,
   "id": "a3a08756-a9af-47b1-bb08-be58206b1da2",
   "metadata": {},
   "outputs": [],
   "source": []
  }
 ],
 "metadata": {
  "kernelspec": {
   "display_name": "TypeScript",
   "language": "typescript",
   "name": "tslab"
  },
  "language_info": {
   "codemirror_mode": {
    "mode": "typescript",
    "name": "javascript",
    "typescript": true
   },
   "file_extension": ".ts",
   "mimetype": "text/typescript",
   "name": "typescript",
   "version": "3.7.2"
  }
 },
 "nbformat": 4,
 "nbformat_minor": 5
}
