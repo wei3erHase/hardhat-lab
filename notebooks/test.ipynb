{
 "cells": [
  {
   "cell_type": "code",
   "execution_count": null,
   "id": "9517a18a-d295-4632-b929-928fdc6cd863",
   "metadata": {},
   "outputs": [],
   "source": [
    "import 'hardhat'\n",
    "import '@nomiclabs/hardhat-ethers'\n",
    "import 'dotenv/config'\n",
    "import { ethers, network } from 'hardhat';"
   ]
  },
  {
   "cell_type": "markdown",
   "id": "e1a90d45-7ca2-4d3c-9477-b4893600522a",
   "metadata": {},
   "source": [
    "# Hardhat"
   ]
  },
  {
   "cell_type": "code",
   "execution_count": null,
   "id": "86d69add-eba5-4a6d-a5f5-2888f53bb335",
   "metadata": {},
   "outputs": [],
   "source": [
    "await network.provider.request(\n",
    "    {\n",
    "        method: \"hardhat_reset\",\n",
    "        params: [\n",
    "            {\n",
    "                forking: {\n",
    "                    jsonRpcUrl: process.env.MAINNET_HTTPS_URL,\n",
    "                    blockNumber: 14000000,\n",
    "                }\n",
    "            }\n",
    "        ],\n",
    "    }\n",
    ")"
   ]
  },
  {
   "cell_type": "code",
   "execution_count": null,
   "id": "9605be21-c1bf-46af-ad49-0bf5301f3b0f",
   "metadata": {},
   "outputs": [],
   "source": [
    "const weth = await ethers.getContractAt('IERC20','0xc02aaa39b223fe8d0a0e5c4f27ead9083c756cc2')"
   ]
  },
  {
   "cell_type": "code",
   "execution_count": null,
   "id": "25ca7acd-90da-46a3-a11a-008501e6d1c4",
   "metadata": {},
   "outputs": [],
   "source": [
    "await weth.callStatic.balanceOf(\"0xBad58e133138549936D2576ebC33251bE841d3e9\")"
   ]
  },
  {
   "cell_type": "markdown",
   "id": "bcf8cfd4-35e1-4844-bbb6-405199ac7dc7",
   "metadata": {},
   "source": [
    "# Smock"
   ]
  },
  {
   "cell_type": "code",
   "execution_count": null,
   "id": "378b29e0-db80-4564-a2e1-8aa82da01a5a",
   "metadata": {},
   "outputs": [],
   "source": [
    "import { smock, MockContract } from '@defi-wonderland/smock'"
   ]
  },
  {
   "cell_type": "code",
   "execution_count": null,
   "id": "a118208f-d38e-4ae8-9b76-9f2ffcbb63a0",
   "metadata": {},
   "outputs": [],
   "source": [
    "const mock = await smock.mock('ERC20')"
   ]
  },
  {
   "cell_type": "code",
   "execution_count": null,
   "id": "b83d0c49-c77f-4153-950c-a5611ff22baa",
   "metadata": {},
   "outputs": [],
   "source": [
    "const m = await mock.deploy('token','TKN')"
   ]
  },
  {
   "cell_type": "code",
   "execution_count": null,
   "id": "f25606bd-013c-4e80-9422-156f076d092e",
   "metadata": {},
   "outputs": [],
   "source": [
    "m.balanceOf.returns(1)"
   ]
  },
  {
   "cell_type": "code",
   "execution_count": null,
   "id": "0182553d-3af8-4acc-a3da-a408c74ac552",
   "metadata": {},
   "outputs": [],
   "source": [
    "await m.balanceOf(\"0xBad58e133138549936D2576ebC33251bE841d3e9\")"
   ]
  },
  {
   "cell_type": "markdown",
   "id": "fd84c1b0-6da9-4bc5-8101-333d4ac07237",
   "metadata": {},
   "source": [
    "# Typechain"
   ]
  },
  {
   "cell_type": "code",
   "execution_count": null,
   "id": "a3a08756-a9af-47b1-bb08-be58206b1da2",
   "metadata": {
    "tags": []
   },
   "outputs": [],
   "source": [
    "import {IERC20} from '@typechained'"
   ]
  },
  {
   "cell_type": "code",
   "execution_count": null,
   "id": "6092a692-9a47-4d44-b649-2b121b7e2398",
   "metadata": {},
   "outputs": [],
   "source": [
    "import {IERC20} from '../typechained'"
   ]
  }
 ],
 "metadata": {
  "kernelspec": {
   "display_name": "TypeScript",
   "language": "typescript",
   "name": "tslab"
  },
  "language_info": {
   "codemirror_mode": {
    "mode": "typescript",
    "name": "javascript",
    "typescript": true
   },
   "file_extension": ".ts",
   "mimetype": "text/typescript",
   "name": "typescript",
   "version": "3.7.2"
  }
 },
 "nbformat": 4,
 "nbformat_minor": 5
}
